{
 "cells": [
  {
   "cell_type": "code",
   "execution_count": 1,
   "id": "4f611f78",
   "metadata": {},
   "outputs": [
    {
     "name": "stdout",
     "output_type": "stream",
     "text": [
      "ok\n"
     ]
    }
   ],
   "source": [
    "print('ok')"
   ]
  },
  {
   "cell_type": "code",
   "execution_count": 2,
   "id": "d67348f6",
   "metadata": {},
   "outputs": [
    {
     "data": {
      "text/plain": [
       "'c:\\\\Users\\\\Sonjoy Dey\\\\Desktop\\\\SD\\\\Wix-buddy\\\\research'"
      ]
     },
     "execution_count": 2,
     "metadata": {},
     "output_type": "execute_result"
    }
   ],
   "source": [
    "%pwd"
   ]
  },
  {
   "cell_type": "code",
   "execution_count": 3,
   "id": "dd1036bd",
   "metadata": {},
   "outputs": [],
   "source": [
    "import os\n",
    "os.chdir('../')"
   ]
  },
  {
   "cell_type": "code",
   "execution_count": 4,
   "id": "9c202377",
   "metadata": {},
   "outputs": [
    {
     "data": {
      "text/plain": [
       "'c:\\\\Users\\\\Sonjoy Dey\\\\Desktop\\\\SD\\\\Wix-buddy'"
      ]
     },
     "execution_count": 4,
     "metadata": {},
     "output_type": "execute_result"
    }
   ],
   "source": [
    "%pwd"
   ]
  },
  {
   "cell_type": "code",
   "execution_count": 5,
   "id": "f45d9a3a",
   "metadata": {},
   "outputs": [],
   "source": [
    "import json\n",
    "from langchain.docstore.document import Document\n",
    "from langchain.text_splitter import RecursiveCharacterTextSplitter"
   ]
  },
  {
   "cell_type": "code",
   "execution_count": 11,
   "id": "0d63fc6f",
   "metadata": {},
   "outputs": [],
   "source": [
    "def load_json_files(directory):\n",
    "    documents = []\n",
    "\n",
    "    for filename in os.listdir(directory):\n",
    "        if filename.endswith('.json'):\n",
    "            file_path = os.path.join(directory, filename)\n",
    "            try:\n",
    "                with open(file_path, 'r', encoding='utf-8') as f:\n",
    "                    data = json.load(f)\n",
    "\n",
    "                    content = json.dumps(data, indent=2)  # Customize as needed\n",
    "\n",
    "                    doc = Document(\n",
    "                        page_content=content,\n",
    "                        metadata={\"source\": filename}\n",
    "                    )\n",
    "                    documents.append(doc)\n",
    "            except json.JSONDecodeError as e:\n",
    "                print(f\"Skipping {filename} — JSON decode error: {e}\")\n",
    "            except Exception as e:\n",
    "                print(f\"Skipping {filename} — Unexpected error: {e}\")\n",
    "\n",
    "    return documents\n"
   ]
  },
  {
   "cell_type": "code",
   "execution_count": 12,
   "id": "3a823e56",
   "metadata": {},
   "outputs": [],
   "source": [
    "extracted_data = load_json_files(directory='Data/')"
   ]
  },
  {
   "cell_type": "code",
   "execution_count": 14,
   "id": "7fe7d860",
   "metadata": {},
   "outputs": [
    {
     "name": "stdout",
     "output_type": "stream",
     "text": [
      "Extracted 1 documents from JSON files.\n"
     ]
    }
   ],
   "source": [
    "print(f\"Extracted {len(extracted_data)} documents from JSON files.\")"
   ]
  },
  {
   "cell_type": "code",
   "execution_count": 19,
   "id": "6c24bc71",
   "metadata": {},
   "outputs": [],
   "source": [
    "# Optional: Split long documents into chunks\n",
    "def split_documents(documents, chunk_size=1000, chunk_overlap=100):\n",
    "    splitter = RecursiveCharacterTextSplitter(\n",
    "        chunk_size=chunk_size,\n",
    "        chunk_overlap=chunk_overlap\n",
    "    )\n",
    "    return splitter.split_documents(documents)"
   ]
  },
  {
   "cell_type": "code",
   "execution_count": 20,
   "id": "4b7d57dd",
   "metadata": {},
   "outputs": [],
   "source": [
    "text_chunks=split_documents(extracted_data)"
   ]
  },
  {
   "cell_type": "code",
   "execution_count": 21,
   "id": "fed6fb07",
   "metadata": {},
   "outputs": [
    {
     "name": "stdout",
     "output_type": "stream",
     "text": [
      "Length of Text Chunks 66296\n"
     ]
    }
   ],
   "source": [
    "print(\"Length of Text Chunks\", len(text_chunks))"
   ]
  },
  {
   "cell_type": "code",
   "execution_count": 22,
   "id": "2396039b",
   "metadata": {},
   "outputs": [],
   "source": [
    "from langchain.embeddings import HuggingFaceEmbeddings"
   ]
  },
  {
   "cell_type": "code",
   "execution_count": 26,
   "id": "5ce23293",
   "metadata": {},
   "outputs": [],
   "source": [
    "def download_huggingface_model_embedding():\n",
    "    embeddings = HuggingFaceEmbeddings(model_name=\"sentence-transformers/all-MiniLM-L6-v2\")\n",
    "    return embeddings"
   ]
  },
  {
   "cell_type": "code",
   "execution_count": 27,
   "id": "f3e0437b",
   "metadata": {},
   "outputs": [],
   "source": [
    "embeddings = download_huggingface_model_embedding()"
   ]
  },
  {
   "cell_type": "code",
   "execution_count": 29,
   "id": "c1601d55",
   "metadata": {},
   "outputs": [
    {
     "name": "stdout",
     "output_type": "stream",
     "text": [
      "Length 384\n"
     ]
    }
   ],
   "source": [
    "query_result = embeddings.embed_query(\"Hello world\")\n",
    "print(\"Length\", len(query_result))"
   ]
  },
  {
   "cell_type": "code",
   "execution_count": 30,
   "id": "84f600be",
   "metadata": {},
   "outputs": [
    {
     "data": {
      "text/plain": [
       "True"
      ]
     },
     "execution_count": 30,
     "metadata": {},
     "output_type": "execute_result"
    }
   ],
   "source": [
    "from dotenv import load_dotenv\n",
    "load_dotenv()"
   ]
  },
  {
   "cell_type": "code",
   "execution_count": 31,
   "id": "2bc0d0eb",
   "metadata": {},
   "outputs": [],
   "source": [
    "PINECONE_API_KEY=os.environ.get('PINECONE_API_KEY')\n",
    "GOOGLE_API_KEY=os.environ.get('GOOGLE_API_KEY')"
   ]
  },
  {
   "cell_type": "code",
   "execution_count": 32,
   "id": "7f142e7d",
   "metadata": {},
   "outputs": [
    {
     "data": {
      "text/plain": [
       "{\n",
       "    \"name\": \"wixbuddy\",\n",
       "    \"metric\": \"cosine\",\n",
       "    \"host\": \"wixbuddy-uor1e5c.svc.aped-4627-b74a.pinecone.io\",\n",
       "    \"spec\": {\n",
       "        \"serverless\": {\n",
       "            \"cloud\": \"aws\",\n",
       "            \"region\": \"us-east-1\"\n",
       "        }\n",
       "    },\n",
       "    \"status\": {\n",
       "        \"ready\": true,\n",
       "        \"state\": \"Ready\"\n",
       "    },\n",
       "    \"vector_type\": \"dense\",\n",
       "    \"dimension\": 384,\n",
       "    \"deletion_protection\": \"disabled\",\n",
       "    \"tags\": null\n",
       "}"
      ]
     },
     "execution_count": 32,
     "metadata": {},
     "output_type": "execute_result"
    }
   ],
   "source": [
    "from pinecone.grpc import PineconeGRPC as Pinecone\n",
    "from pinecone import ServerlessSpec\n",
    "import os\n",
    "\n",
    "pc = Pinecone(api_key=PINECONE_API_KEY)\n",
    "\n",
    "index_name = \"wixbuddy\"\n",
    "\n",
    "\n",
    "pc.create_index(\n",
    "    name=index_name,\n",
    "    dimension=384, \n",
    "    metric=\"cosine\", \n",
    "    spec=ServerlessSpec(\n",
    "        cloud=\"aws\", \n",
    "        region=\"us-east-1\"\n",
    "    ) \n",
    ") "
   ]
  },
  {
   "cell_type": "code",
   "execution_count": 33,
   "id": "9c84c0b9",
   "metadata": {},
   "outputs": [],
   "source": [
    "import os\n",
    "os.environ[\"PINECONE_API_KEY\"] = PINECONE_API_KEY\n",
    "os.environ[\"GOOGLE_API_KEY\"] = GOOGLE_API_KEY"
   ]
  },
  {
   "cell_type": "code",
   "execution_count": 34,
   "id": "66a07852",
   "metadata": {},
   "outputs": [],
   "source": [
    "# Embed each chunk and upsert the embeddings into your Pinecone index.\n",
    "from langchain_pinecone import PineconeVectorStore\n",
    "\n",
    "docsearch = PineconeVectorStore.from_documents(\n",
    "    documents=text_chunks,\n",
    "    index_name=index_name,\n",
    "    embedding=embeddings, \n",
    ")"
   ]
  },
  {
   "cell_type": "code",
   "execution_count": 35,
   "id": "680d5762",
   "metadata": {},
   "outputs": [
    {
     "data": {
      "text/plain": [
       "<langchain_pinecone.vectorstores.PineconeVectorStore at 0x21291f2f7a0>"
      ]
     },
     "execution_count": 35,
     "metadata": {},
     "output_type": "execute_result"
    }
   ],
   "source": [
    "docsearch"
   ]
  },
  {
   "cell_type": "code",
   "execution_count": 36,
   "id": "d9e1c005",
   "metadata": {},
   "outputs": [],
   "source": [
    "retriever = docsearch.as_retriever(search_type=\"similarity\", search_kwargs={\"k\":3})"
   ]
  },
  {
   "cell_type": "code",
   "execution_count": 37,
   "id": "728c1962",
   "metadata": {},
   "outputs": [],
   "source": [
    "retrieved_docs = retriever.invoke(\"Some bangaldeshi university\") "
   ]
  },
  {
   "cell_type": "code",
   "execution_count": 38,
   "id": "d7d92462",
   "metadata": {},
   "outputs": [
    {
     "data": {
      "text/plain": [
       "[Document(id='40992057-9240-41ad-8e24-4218a558b3d1', metadata={'source': 'uni_dataset.json'}, page_content=']\\n    },\\n    \"divisions\": {\\n      \"Economics\": [\\n        \"Accountancy\",\\n        \"Economics\",\\n        \"Information Management\",\\n        \"Management\"\\n      ],\\n      \"Engineering\": [\\n        \"Civil Engineering\",\\n        \"Engineering\",\\n        \"Mechanical Engineering\"\\n      ],\\n      \"Islamic Studies\": [\\n        \"Islamic Studies\"\\n      ],\\n      \"Law\": [\\n        \"Law\"\\n      ],\\n      \"Teacher Training and Education\": [\\n        \"Biology\",\\n        \"Curriculum\",\\n        \"Educational and Student Counselling\",\\n        \"Educational Sciences\",\\n        \"Educational Technology\",\\n        \"History\",\\n        \"Mathematics Education\",\\n        \"Natural Sciences\",\\n        \"Physics\",\\n        \"Primary Education\",\\n        \"Teacher Training\"\\n      ],\\n      \"Graduate Studies\": [\\n        \"Educational Administration\",\\n        \"Management\",\\n        \"Science Education\"\\n      ]\\n    }\\n  },\\n  {\\n    \"name\": \"Muhammadiyah University of North Sumatra\",'),\n",
       " Document(id='64ab5b54-7ca3-4c97-aacc-0e8dfb7a2019', metadata={'source': 'uni_dataset.json'}, page_content='\"Management\"\\n      ],\\n      \"Educational Science and Teacher Training\": [\\n        \"Art Education\",\\n        \"Biology\",\\n        \"Economics\",\\n        \"Educational Administration\",\\n        \"Educational Sciences\",\\n        \"Educational Technology\",\\n        \"English\",\\n        \"Indonesian\",\\n        \"Literature\",\\n        \"Mathematics Education\",\\n        \"Modern Languages\",\\n        \"Natural Sciences\"\\n      ],\\n      \"Engineering\": [\\n        \"Computer Engineering\",\\n        \"Electronic Engineering\",\\n        \"Engineering\"\\n      ],\\n      \"Health Sciences\": [\\n        \"Health Sciences\"\\n      ],\\n      \"Islamic Studies\": [\\n        \"Islamic Studies\",\\n        \"Islamic Theology\"\\n      ],\\n      \"Social and Political Sciences\": [\\n        \"Civics\",\\n        \"Communication Studies\",\\n        \"Government\",\\n        \"Political Sciences\",\\n        \"Public Administration\",\\n        \"Social Sciences\",\\n        \"Sociology\"\\n      ]\\n    }\\n  },\\n  {\\n    \"name\": \"Muhammadiyah University of Cirebon\",'),\n",
       " Document(id='e3809598-eefb-4a13-afdc-4467bcc269e2', metadata={'source': 'uni_dataset.json'}, page_content='\"Business Administration\",\\n        \"Economics\"\\n      ],\\n      \"Engineering\": [\\n        \"Civil Engineering\",\\n        \"Electrical and Electronic Engineering\",\\n        \"Electrical Engineering\",\\n        \"Mechanical Engineering\",\\n        \"Power Engineering\"\\n      ],\\n      \"Foundation and Diploma Studies\": [\\n        \"Accountancy\",\\n        \"Arts and Humanities\",\\n        \"Business Administration\",\\n        \"Communication Studies\",\\n        \"Computer Science\",\\n        \"Education\",\\n        \"Mathematics\",\\n        \"Modern Languages\",\\n        \"Natural Sciences\",\\n        \"Pedagogy\",\\n        \"Social Sciences\"\\n      ],\\n      \"Graduate Studies\": [\\n        \"Business Administration\",\\n        \"Civil Engineering\",\\n        \"Electrical Engineering\",\\n        \"Engineering Management\",\\n        \"Industrial Engineering\",\\n        \"Information Technology\",\\n        \"Mechanical Engineering\",\\n        \"Telecommunications Engineering\"\\n      ]\\n    }\\n  },\\n  {\\n    \"name\": \"Tun Abdul Razak University\",')]"
      ]
     },
     "execution_count": 38,
     "metadata": {},
     "output_type": "execute_result"
    }
   ],
   "source": [
    "retrieved_docs"
   ]
  },
  {
   "cell_type": "code",
   "execution_count": 40,
   "id": "cdd5c8fe",
   "metadata": {},
   "outputs": [],
   "source": [
    "from langchain_google_genai import ChatGoogleGenerativeAI\n",
    "\n",
    "llm = ChatGoogleGenerativeAI(\n",
    "    model=\"gemini-2.0-flash\",\n",
    "    temperature=0.4, \n",
    "    max_tokens=500, \n",
    "\n",
    ")"
   ]
  },
  {
   "cell_type": "code",
   "execution_count": 41,
   "id": "46b73ad6",
   "metadata": {},
   "outputs": [
    {
     "name": "stdout",
     "output_type": "stream",
     "text": [
      "J'adore la programmation.\n"
     ]
    }
   ],
   "source": [
    "# Prepare your message\n",
    "messages = [\n",
    "    (\n",
    "        \"system\",\n",
    "        \"You are a helpful assistant that translates English to French. Translate the user sentence.\",\n",
    "    ),\n",
    "    (\"human\", \"I love programming.\"),\n",
    "]\n",
    "\n",
    "# Invoke the LLM\n",
    "ai_msg = llm.invoke(messages)\n",
    "\n",
    "# Print the result\n",
    "print(ai_msg.content)"
   ]
  },
  {
   "cell_type": "code",
   "execution_count": 71,
   "id": "9ee660bc",
   "metadata": {},
   "outputs": [],
   "source": [
    "from langchain.chains import create_retrieval_chain\n",
    "from langchain.chains.combine_documents import create_stuff_documents_chain\n",
    "from langchain_core.prompts import ChatPromptTemplate\n",
    "\n",
    "\n",
    "system_prompt = (\n",
    "    \"You are an intelligent assistant for a study consultancy system. \"\n",
    "    \"Use the retrieved context below to answer the user's question as accurately and concisely as possible. \"\n",
    "    \"If the context does not provide enough information, indicate that you're searching the web to find the answer. \"\n",
    "    \"Keep responses to a maximum of three sentences and prioritize clarity.\"\n",
    "    \"\\n\\n\"\n",
    "    \"{context}\"\n",
    ")\n",
    "\n",
    "\n",
    "prompt = ChatPromptTemplate.from_messages(\n",
    "    [\n",
    "        (\"system\", system_prompt),\n",
    "        (\"human\", \"{input}\"),\n",
    "    ]\n",
    ")"
   ]
  },
  {
   "cell_type": "code",
   "execution_count": 72,
   "id": "fef8fd03",
   "metadata": {},
   "outputs": [],
   "source": [
    "question_answer_chain = create_stuff_documents_chain(llm, prompt)\n",
    "rag_chain = create_retrieval_chain(retriever, question_answer_chain)"
   ]
  },
  {
   "cell_type": "code",
   "execution_count": 77,
   "id": "3386ce21",
   "metadata": {},
   "outputs": [
    {
     "name": "stdout",
     "output_type": "stream",
     "text": [
      "Chittagong University offers courses in Arts and Humanities, Business and Economics, and Science and Engineering. The Arts and Humanities include fields like Literature, Philosophy, and Political Sciences. Science and Engineering programs cover Computer Science, Geography, and Psychology.\n"
     ]
    }
   ],
   "source": [
    "response = rag_chain.invoke({\"input\": \"Tell me about Chittagong University offered course.\"})\n",
    "print(response[\"answer\"])"
   ]
  },
  {
   "cell_type": "markdown",
   "id": "39c0294b",
   "metadata": {},
   "source": [
    "response = rag_chain.invoke({\"input\": \"Tell me about Chittagong University offered course.\"})\n",
    "print(response[\"answer\"])"
   ]
  }
 ],
 "metadata": {
  "kernelspec": {
   "display_name": "venv",
   "language": "python",
   "name": "python3"
  },
  "language_info": {
   "codemirror_mode": {
    "name": "ipython",
    "version": 3
   },
   "file_extension": ".py",
   "mimetype": "text/x-python",
   "name": "python",
   "nbconvert_exporter": "python",
   "pygments_lexer": "ipython3",
   "version": "3.12.7"
  }
 },
 "nbformat": 4,
 "nbformat_minor": 5
}
